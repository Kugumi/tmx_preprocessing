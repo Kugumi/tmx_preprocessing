{
 "cells": [
  {
   "cell_type": "markdown",
   "id": "080d1ba8",
   "metadata": {},
   "source": [
    "### Открываю tmx-файл в Heartsome TMX Editor. Сначала просто ознакамливаюсь с данными. "
   ]
  },
  {
   "cell_type": "markdown",
   "id": "7c67ef0c",
   "metadata": {},
   "source": [
    "#### Устанавливаю модуль Python для работы с tmx-файлами"
   ]
  },
  {
   "cell_type": "code",
   "execution_count": null,
   "id": "9ca4366e",
   "metadata": {
    "scrolled": true
   },
   "outputs": [],
   "source": [
    "!pip install translate-toolkit"
   ]
  },
  {
   "cell_type": "code",
   "execution_count": 1,
   "id": "a4802d50",
   "metadata": {},
   "outputs": [],
   "source": [
    "from translate.storage.tmx import tmxfile"
   ]
  },
  {
   "cell_type": "code",
   "execution_count": 2,
   "id": "314b81b2",
   "metadata": {},
   "outputs": [],
   "source": [
    "#Импортирую tmx файл\n",
    "\n",
    "with open(\"testTMX.tmx\", 'rb') as fin:\n",
    "    tmx_file = tmxfile(fin, 'ru', 'eng')"
   ]
  },
  {
   "cell_type": "code",
   "execution_count": 4,
   "id": "e9c5ad19",
   "metadata": {},
   "outputs": [
    {
     "name": "stdout",
     "output_type": "stream",
     "text": [
      "True\n"
     ]
    }
   ],
   "source": [
    "# Функция для проверки юнитов только с цифрами и точками, нужна будет дальше\n",
    "\n",
    "digitsdot = \"1234567890.\"\n",
    "\n",
    "def isdotdigit(string):\n",
    "    for k in string:\n",
    "        if k in digitsdot:\n",
    "            for k in digitsdot:\n",
    "                ;\n",
    "        else:\n",
    "            return False\n",
    "    return True    \n",
    "\n",
    "char = \"1.3.2.3\"\n",
    "\n",
    "print(isdotdigit(char))"
   ]
  },
  {
   "cell_type": "markdown",
   "id": "a23f6971",
   "metadata": {},
   "source": [
    "### Начинаю проверку датасета на пустоты,  на юниты, не имеющие ценности и т.д."
   ]
  },
  {
   "cell_type": "code",
   "execution_count": 10,
   "id": "f6a07cd3",
   "metadata": {
    "scrolled": true
   },
   "outputs": [
    {
     "name": "stdout",
     "output_type": "stream",
     "text": [
      "Пустых: 0\n",
      "Source-число: 0\n",
      "Target-число: 0\n",
      "Source меньше 6 символов: 0\n",
      "В source только цифры и точки: 0\n",
      "Количество юнитов: 3968\n"
     ]
    }
   ],
   "source": [
    "s = 0\n",
    "t = 0\n",
    "b = 0\n",
    "count = 0\n",
    "dd = 0\n",
    "trash = 0\n",
    "\n",
    "for node in tmx_file.unit_iter():\n",
    "    count += 1\n",
    "    source = node.getid()\n",
    "    target = node.gettarget()\n",
    "    \n",
    "# Проверяем, есть ли в юните пустой source, либо пустой target\n",
    "\n",
    "    if node.isblank():\n",
    "        b += 1\n",
    "        \n",
    "# Проверяем, является ли source, либо target, исключительно числом    \n",
    "\n",
    "    if source.isnumeric():\n",
    "        s += 1\n",
    "    if target.isnumeric():\n",
    "        t += 1\n",
    "        \n",
    "# Предположим, что все source, в которых меньше, чем 6 символов, не имеют никакой ценности. \n",
    "# Посмотрим на такие юниты и посчитаем количество\n",
    "# Из этих юнитов даже беглым взглядом можно вычленить много мусора: юниты-числа с точками, буквы(не слова) с точками и т.д.\n",
    "# Их всего 72(1,8% от датасета)\n",
    "\n",
    "    if len(source) < 6:\n",
    "        print(source)\n",
    "        print(target)\n",
    "        print(\"________\")\n",
    "        trash += 1\n",
    "\n",
    "# Проверим, возможно, есть множество юнитов больше 6 символов, где только цифры и точки, т.е. также не имеющие ценность\n",
    "\n",
    "    if (isdotdigit(source)):\n",
    "        dd += 1\n",
    "                    \n",
    "print(\"Пустых:\", b)\n",
    "print(\"Source-число:\", s)\n",
    "print(\"Target-число:\", t)\n",
    "print(\"Source меньше 6 символов:\", trash)\n",
    "print(\"В source только цифры и точки:\", dd)\n",
    "print(\"Количество юнитов:\", count)"
   ]
  },
  {
   "cell_type": "markdown",
   "id": "f4dd2256",
   "metadata": {},
   "source": [
    "#### Удаляем вычисленные невалидные юниты "
   ]
  },
  {
   "cell_type": "code",
   "execution_count": 9,
   "id": "21eee315",
   "metadata": {},
   "outputs": [],
   "source": [
    "for node in tmx_file.getunits():\n",
    "    source = node.getid()\n",
    "    target = node.gettarget()\n",
    "    \n",
    "# Удаляем юниты с target-число   \n",
    "\n",
    "    if target.isnumeric():\n",
    "        tmx_file.removeunit(node)    \n",
    "\n",
    "# Удаляем юниты с source меньше 6 символов\n",
    "\n",
    "    elif (len(source) < 6):\n",
    "        tmx_file.removeunit(node)\n",
    "        \n",
    "# Удаляем юниты только c цифрами и точками в source\n",
    "\n",
    "    elif (isdotdigit(source)):\n",
    "        tmx_file.removeunit(node)"
   ]
  },
  {
   "cell_type": "markdown",
   "id": "b72de1c3",
   "metadata": {},
   "source": [
    "#### Взяв список символов, валидных для русской и английской раскладки (включая space), я могу вычислить юниты, которые содержат порченые символы"
   ]
  },
  {
   "cell_type": "code",
   "execution_count": 15,
   "id": "26842d7d",
   "metadata": {},
   "outputs": [
    {
     "name": "stdout",
     "output_type": "stream",
     "text": [
      "Unknown: 0\n",
      "Количество юнитов: 3861\n"
     ]
    }
   ],
   "source": [
    "count = 0\n",
    "unknown = 0\n",
    "\n",
    "_chars = u\"~!@#$%^&qwertyuiop[]asdfghjkl;'zxcvbnm,./QWERTYUIOP{}ASDFGHJKL:\\\"|ZXCVBNM<>?ё!\\\"№;%:?йцукенгшщзхъфывапролджэячсмитьбю.ЙЦУКЕНГШЩЗХЪФЫВАПРОЛДЖЭ/ЯЧСМИТЬБЮ, -1234567890()«—»–…+“”€*©\"\n",
    "\n",
    "for node in tmx_file.unit_iter():\n",
    "    count += 1\n",
    "    source = node.getid()\n",
    "    target = node.gettarget()\n",
    "\n",
    "    for s in source:\n",
    "        if s not in _chars:\n",
    "            print(s)\n",
    "            print(source)\n",
    "            print(target)\n",
    "            print(\"-------------------------------------------------------------------\")\n",
    "            unknown += 1\n",
    "            break;\n",
    "\n",
    "print(\"Unknown:\", unknown)\n",
    "print(\"Количество юнитов:\", count)            "
   ]
  },
  {
   "cell_type": "code",
   "execution_count": 14,
   "id": "2a1cd6fb",
   "metadata": {},
   "outputs": [],
   "source": [
    "#Их оказалось всего 107(2,7% от датасета), также удаляем их\n",
    "\n",
    "for node in tmx_file.getunits():\n",
    "    source = node.getid()\n",
    "    \n",
    "    for s in source:\n",
    "        if s not in _chars:\n",
    "            tmx_file.removeunit(node)\n",
    "            break;"
   ]
  },
  {
   "cell_type": "code",
   "execution_count": null,
   "id": "ebde83e1",
   "metadata": {},
   "outputs": [],
   "source": [
    "#Увеличиваем видимость выводимых строк\n",
    "\n",
    "pd.set_option('max_colwidth', 8000)"
   ]
  }
 ],
 "metadata": {
  "kernelspec": {
   "display_name": "Python 3",
   "language": "python",
   "name": "python3"
  },
  "language_info": {
   "codemirror_mode": {
    "name": "ipython",
    "version": 3
   },
   "file_extension": ".py",
   "mimetype": "text/x-python",
   "name": "python",
   "nbconvert_exporter": "python",
   "pygments_lexer": "ipython3",
   "version": "3.8.8"
  }
 },
 "nbformat": 4,
 "nbformat_minor": 5
}
